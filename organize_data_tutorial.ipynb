{
 "cells": [
  {
   "cell_type": "markdown",
   "id": "eed37bc3",
   "metadata": {},
   "source": [
    "# ---------------------------------------ORGANIZE-DATA---------------------------------------"
   ]
  },
  {
   "cell_type": "markdown",
   "id": "cf5c96d5",
   "metadata": {},
   "source": [
    "### Import Library's"
   ]
  },
  {
   "cell_type": "code",
   "execution_count": 98,
   "id": "48f9d6da",
   "metadata": {},
   "outputs": [],
   "source": [
    "import pandas as pd\n",
    "import numpy as np\n",
    "import regex as re\n",
    "import warnings\n",
    "warnings.filterwarnings(\"ignore\")\n",
    "warnings.warn(\"this will not show\")"
   ]
  },
  {
   "cell_type": "markdown",
   "id": "16bfd7e0",
   "metadata": {},
   "source": [
    "### Function"
   ]
  },
  {
   "cell_type": "code",
   "execution_count": 99,
   "id": "83c91880",
   "metadata": {},
   "outputs": [],
   "source": [
    "def organize(data, new_col_name, pattern, search_index):\n",
    "    '''\n",
    "    This function was created to organize data in different columns but actually mean the same thing.\n",
    "    \n",
    "    '''\n",
    "    \n",
    "    data[new_col_name] = np.nan\n",
    "    for col in data.columns:\n",
    "        for index in range(len(df)):\n",
    "            try:\n",
    "                data[new_col_name][index] = re.search(pattern, data[col][index])[search_index]\n",
    "            except:\n",
    "                pass"
   ]
  },
  {
   "cell_type": "markdown",
   "id": "f35c13a2",
   "metadata": {},
   "source": [
    "Definition of the values we need to give to the function:\n",
    "\n",
    "- data: the dataframe we want to edit\n",
    "- new_col_name: column name we want to insert clean data after editing\n",
    "- pattern: the pattern we want to search with the regex module\n",
    "- search_index: the index order we want when we search with regex"
   ]
  },
  {
   "cell_type": "markdown",
   "id": "ca61d87a",
   "metadata": {},
   "source": [
    "## Example"
   ]
  },
  {
   "cell_type": "code",
   "execution_count": 100,
   "id": "0a3e491f",
   "metadata": {},
   "outputs": [],
   "source": [
    "df = pd.DataFrame([\n",
    "    ['Math Exam: 50','Physics Exam: 70','History Exam: 60','Chemistry Exam: 80'],\n",
    "    ['Chemistry Exam: 80','Math Exam: 50','History Exam: 60','Physics Exam: 70'],\n",
    "    ['History Exam: 60','Chemistry Exam: 80','Physics Exam: 70','Math Exam: 50']], index=['stu1', 'stu2', 'stu3'])"
   ]
  },
  {
   "cell_type": "code",
   "execution_count": 101,
   "id": "f611fef3",
   "metadata": {},
   "outputs": [
    {
     "data": {
      "text/html": [
       "<div>\n",
       "<style scoped>\n",
       "    .dataframe tbody tr th:only-of-type {\n",
       "        vertical-align: middle;\n",
       "    }\n",
       "\n",
       "    .dataframe tbody tr th {\n",
       "        vertical-align: top;\n",
       "    }\n",
       "\n",
       "    .dataframe thead th {\n",
       "        text-align: right;\n",
       "    }\n",
       "</style>\n",
       "<table border=\"1\" class=\"dataframe\">\n",
       "  <thead>\n",
       "    <tr style=\"text-align: right;\">\n",
       "      <th></th>\n",
       "      <th>0</th>\n",
       "      <th>1</th>\n",
       "      <th>2</th>\n",
       "      <th>3</th>\n",
       "    </tr>\n",
       "  </thead>\n",
       "  <tbody>\n",
       "    <tr>\n",
       "      <th>stu1</th>\n",
       "      <td>Math Exam: 50</td>\n",
       "      <td>Physics Exam: 70</td>\n",
       "      <td>History Exam: 60</td>\n",
       "      <td>Chemistry Exam: 80</td>\n",
       "    </tr>\n",
       "    <tr>\n",
       "      <th>stu2</th>\n",
       "      <td>Chemistry Exam: 80</td>\n",
       "      <td>Math Exam: 50</td>\n",
       "      <td>History Exam: 60</td>\n",
       "      <td>Physics Exam: 70</td>\n",
       "    </tr>\n",
       "    <tr>\n",
       "      <th>stu3</th>\n",
       "      <td>History Exam: 60</td>\n",
       "      <td>Chemistry Exam: 80</td>\n",
       "      <td>Physics Exam: 70</td>\n",
       "      <td>Math Exam: 50</td>\n",
       "    </tr>\n",
       "  </tbody>\n",
       "</table>\n",
       "</div>"
      ],
      "text/plain": [
       "                       0                   1                 2  \\\n",
       "stu1       Math Exam: 50    Physics Exam: 70  History Exam: 60   \n",
       "stu2  Chemistry Exam: 80       Math Exam: 50  History Exam: 60   \n",
       "stu3    History Exam: 60  Chemistry Exam: 80  Physics Exam: 70   \n",
       "\n",
       "                       3  \n",
       "stu1  Chemistry Exam: 80  \n",
       "stu2    Physics Exam: 70  \n",
       "stu3       Math Exam: 50  "
      ]
     },
     "execution_count": 101,
     "metadata": {},
     "output_type": "execute_result"
    }
   ],
   "source": [
    "df"
   ]
  },
  {
   "cell_type": "markdown",
   "id": "8a9712f2",
   "metadata": {},
   "source": [
    "- As you can see, the exam grades are in different columns on each row.\n",
    "- In order for the change to be seen more clearly, each student was given the same grade in each branch."
   ]
  },
  {
   "cell_type": "code",
   "execution_count": 102,
   "id": "049f4a50",
   "metadata": {},
   "outputs": [],
   "source": [
    "columns = df.columns"
   ]
  },
  {
   "cell_type": "markdown",
   "id": "08facfed",
   "metadata": {},
   "source": [
    "- In the last step, we saved them as we are going to drop the columns we are currently working with."
   ]
  },
  {
   "cell_type": "code",
   "execution_count": 103,
   "id": "5cfb86b4",
   "metadata": {},
   "outputs": [],
   "source": [
    "df.reset_index(inplace=True)"
   ]
  },
  {
   "cell_type": "code",
   "execution_count": 104,
   "id": "7bd45084",
   "metadata": {},
   "outputs": [
    {
     "data": {
      "text/html": [
       "<div>\n",
       "<style scoped>\n",
       "    .dataframe tbody tr th:only-of-type {\n",
       "        vertical-align: middle;\n",
       "    }\n",
       "\n",
       "    .dataframe tbody tr th {\n",
       "        vertical-align: top;\n",
       "    }\n",
       "\n",
       "    .dataframe thead th {\n",
       "        text-align: right;\n",
       "    }\n",
       "</style>\n",
       "<table border=\"1\" class=\"dataframe\">\n",
       "  <thead>\n",
       "    <tr style=\"text-align: right;\">\n",
       "      <th></th>\n",
       "      <th>index</th>\n",
       "      <th>0</th>\n",
       "      <th>1</th>\n",
       "      <th>2</th>\n",
       "      <th>3</th>\n",
       "    </tr>\n",
       "  </thead>\n",
       "  <tbody>\n",
       "    <tr>\n",
       "      <th>0</th>\n",
       "      <td>stu1</td>\n",
       "      <td>Math Exam: 50</td>\n",
       "      <td>Physics Exam: 70</td>\n",
       "      <td>History Exam: 60</td>\n",
       "      <td>Chemistry Exam: 80</td>\n",
       "    </tr>\n",
       "    <tr>\n",
       "      <th>1</th>\n",
       "      <td>stu2</td>\n",
       "      <td>Chemistry Exam: 80</td>\n",
       "      <td>Math Exam: 50</td>\n",
       "      <td>History Exam: 60</td>\n",
       "      <td>Physics Exam: 70</td>\n",
       "    </tr>\n",
       "    <tr>\n",
       "      <th>2</th>\n",
       "      <td>stu3</td>\n",
       "      <td>History Exam: 60</td>\n",
       "      <td>Chemistry Exam: 80</td>\n",
       "      <td>Physics Exam: 70</td>\n",
       "      <td>Math Exam: 50</td>\n",
       "    </tr>\n",
       "  </tbody>\n",
       "</table>\n",
       "</div>"
      ],
      "text/plain": [
       "  index                   0                   1                 2  \\\n",
       "0  stu1       Math Exam: 50    Physics Exam: 70  History Exam: 60   \n",
       "1  stu2  Chemistry Exam: 80       Math Exam: 50  History Exam: 60   \n",
       "2  stu3    History Exam: 60  Chemistry Exam: 80  Physics Exam: 70   \n",
       "\n",
       "                    3  \n",
       "0  Chemistry Exam: 80  \n",
       "1    Physics Exam: 70  \n",
       "2       Math Exam: 50  "
      ]
     },
     "execution_count": 104,
     "metadata": {},
     "output_type": "execute_result"
    }
   ],
   "source": [
    "df"
   ]
  },
  {
   "cell_type": "markdown",
   "id": "3ae01f7c",
   "metadata": {},
   "source": [
    "- For the function to work, we need to use reset index in our data."
   ]
  },
  {
   "cell_type": "code",
   "execution_count": 105,
   "id": "62846198",
   "metadata": {},
   "outputs": [],
   "source": [
    "organize(df, 'math', 'Math Exam: (\\w.+)', 1)\n",
    "organize(df, 'chem', 'Chemistry Exam: (\\w.+)', 1)\n",
    "organize(df, 'hist', 'History Exam: (\\w.+)', 1)\n",
    "organize(df, 'pyhsc', 'Physics Exam: (\\w.+)', 1)"
   ]
  },
  {
   "cell_type": "code",
   "execution_count": 106,
   "id": "8e541b22",
   "metadata": {},
   "outputs": [
    {
     "data": {
      "text/html": [
       "<div>\n",
       "<style scoped>\n",
       "    .dataframe tbody tr th:only-of-type {\n",
       "        vertical-align: middle;\n",
       "    }\n",
       "\n",
       "    .dataframe tbody tr th {\n",
       "        vertical-align: top;\n",
       "    }\n",
       "\n",
       "    .dataframe thead th {\n",
       "        text-align: right;\n",
       "    }\n",
       "</style>\n",
       "<table border=\"1\" class=\"dataframe\">\n",
       "  <thead>\n",
       "    <tr style=\"text-align: right;\">\n",
       "      <th></th>\n",
       "      <th>index</th>\n",
       "      <th>0</th>\n",
       "      <th>1</th>\n",
       "      <th>2</th>\n",
       "      <th>3</th>\n",
       "      <th>math</th>\n",
       "      <th>chem</th>\n",
       "      <th>hist</th>\n",
       "      <th>pyhsc</th>\n",
       "    </tr>\n",
       "  </thead>\n",
       "  <tbody>\n",
       "    <tr>\n",
       "      <th>0</th>\n",
       "      <td>stu1</td>\n",
       "      <td>Math Exam: 50</td>\n",
       "      <td>Physics Exam: 70</td>\n",
       "      <td>History Exam: 60</td>\n",
       "      <td>Chemistry Exam: 80</td>\n",
       "      <td>50</td>\n",
       "      <td>80</td>\n",
       "      <td>60</td>\n",
       "      <td>70</td>\n",
       "    </tr>\n",
       "    <tr>\n",
       "      <th>1</th>\n",
       "      <td>stu2</td>\n",
       "      <td>Chemistry Exam: 80</td>\n",
       "      <td>Math Exam: 50</td>\n",
       "      <td>History Exam: 60</td>\n",
       "      <td>Physics Exam: 70</td>\n",
       "      <td>50</td>\n",
       "      <td>80</td>\n",
       "      <td>60</td>\n",
       "      <td>70</td>\n",
       "    </tr>\n",
       "    <tr>\n",
       "      <th>2</th>\n",
       "      <td>stu3</td>\n",
       "      <td>History Exam: 60</td>\n",
       "      <td>Chemistry Exam: 80</td>\n",
       "      <td>Physics Exam: 70</td>\n",
       "      <td>Math Exam: 50</td>\n",
       "      <td>50</td>\n",
       "      <td>80</td>\n",
       "      <td>60</td>\n",
       "      <td>70</td>\n",
       "    </tr>\n",
       "  </tbody>\n",
       "</table>\n",
       "</div>"
      ],
      "text/plain": [
       "  index                   0                   1                 2  \\\n",
       "0  stu1       Math Exam: 50    Physics Exam: 70  History Exam: 60   \n",
       "1  stu2  Chemistry Exam: 80       Math Exam: 50  History Exam: 60   \n",
       "2  stu3    History Exam: 60  Chemistry Exam: 80  Physics Exam: 70   \n",
       "\n",
       "                    3 math chem hist pyhsc  \n",
       "0  Chemistry Exam: 80   50   80   60    70  \n",
       "1    Physics Exam: 70   50   80   60    70  \n",
       "2       Math Exam: 50   50   80   60    70  "
      ]
     },
     "execution_count": 106,
     "metadata": {},
     "output_type": "execute_result"
    }
   ],
   "source": [
    "df"
   ]
  },
  {
   "cell_type": "markdown",
   "id": "c3d6e484",
   "metadata": {},
   "source": [
    "- We are now rid of the data clutter that is difficult to work with. Now we can also get rid of the old columns."
   ]
  },
  {
   "cell_type": "code",
   "execution_count": 107,
   "id": "d2895e58",
   "metadata": {},
   "outputs": [
    {
     "data": {
      "text/html": [
       "<div>\n",
       "<style scoped>\n",
       "    .dataframe tbody tr th:only-of-type {\n",
       "        vertical-align: middle;\n",
       "    }\n",
       "\n",
       "    .dataframe tbody tr th {\n",
       "        vertical-align: top;\n",
       "    }\n",
       "\n",
       "    .dataframe thead th {\n",
       "        text-align: right;\n",
       "    }\n",
       "</style>\n",
       "<table border=\"1\" class=\"dataframe\">\n",
       "  <thead>\n",
       "    <tr style=\"text-align: right;\">\n",
       "      <th></th>\n",
       "      <th>index</th>\n",
       "      <th>math</th>\n",
       "      <th>chem</th>\n",
       "      <th>hist</th>\n",
       "      <th>pyhsc</th>\n",
       "    </tr>\n",
       "  </thead>\n",
       "  <tbody>\n",
       "    <tr>\n",
       "      <th>0</th>\n",
       "      <td>stu1</td>\n",
       "      <td>50</td>\n",
       "      <td>80</td>\n",
       "      <td>60</td>\n",
       "      <td>70</td>\n",
       "    </tr>\n",
       "    <tr>\n",
       "      <th>1</th>\n",
       "      <td>stu2</td>\n",
       "      <td>50</td>\n",
       "      <td>80</td>\n",
       "      <td>60</td>\n",
       "      <td>70</td>\n",
       "    </tr>\n",
       "    <tr>\n",
       "      <th>2</th>\n",
       "      <td>stu3</td>\n",
       "      <td>50</td>\n",
       "      <td>80</td>\n",
       "      <td>60</td>\n",
       "      <td>70</td>\n",
       "    </tr>\n",
       "  </tbody>\n",
       "</table>\n",
       "</div>"
      ],
      "text/plain": [
       "  index math chem hist pyhsc\n",
       "0  stu1   50   80   60    70\n",
       "1  stu2   50   80   60    70\n",
       "2  stu3   50   80   60    70"
      ]
     },
     "execution_count": 107,
     "metadata": {},
     "output_type": "execute_result"
    }
   ],
   "source": [
    "df.drop(columns,axis=1, inplace=True)\n",
    "df"
   ]
  }
 ],
 "metadata": {
  "kernelspec": {
   "display_name": "Python 3 (ipykernel)",
   "language": "python",
   "name": "python3"
  },
  "language_info": {
   "codemirror_mode": {
    "name": "ipython",
    "version": 3
   },
   "file_extension": ".py",
   "mimetype": "text/x-python",
   "name": "python",
   "nbconvert_exporter": "python",
   "pygments_lexer": "ipython3",
   "version": "3.9.13"
  }
 },
 "nbformat": 4,
 "nbformat_minor": 5
}
